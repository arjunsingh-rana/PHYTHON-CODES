{
  "nbformat": 4,
  "nbformat_minor": 0,
  "metadata": {
    "colab": {
      "provenance": [],
      "include_colab_link": true
    },
    "kernelspec": {
      "name": "python3",
      "display_name": "Python 3"
    },
    "language_info": {
      "name": "python"
    }
  },
  "cells": [
    {
      "cell_type": "markdown",
      "metadata": {
        "id": "view-in-github",
        "colab_type": "text"
      },
      "source": [
        "<a href=\"https://colab.research.google.com/github/arjunsingh-rana/PHYTHON-CODES/blob/main/calc.ipynb\" target=\"_parent\"><img src=\"https://colab.research.google.com/assets/colab-badge.svg\" alt=\"Open In Colab\"/></a>"
      ]
    },
    {
      "cell_type": "code",
      "execution_count": null,
      "metadata": {
        "colab": {
          "base_uri": "https://localhost:8080/"
        },
        "id": "jyJwNwU_KH2c",
        "outputId": "11301769-88de-4c90-ddff-38bdf885b142"
      },
      "outputs": [
        {
          "output_type": "stream",
          "name": "stdout",
          "text": [
            "Enter first number: 56\n",
            "Enter operator (+,-,*,/,%): +\n",
            "Enter second number: 56\n",
            "56.0 + 56.0 = 112.0\n",
            "Enter first number: 55\n",
            "Enter operator (+,-,*,/,%): ma0007\n",
            "Enter second number: 521\n",
            "Exiting calculator...\n"
          ]
        }
      ],
      "source": [
        "def add(n1, n2):\n",
        "    return n1 + n2\n",
        "\n",
        "def subtract(n1, n2):\n",
        "    return n1 - n2\n",
        "\n",
        "def multiply(n1, n2):\n",
        "    return n1 * n2\n",
        "\n",
        "def divide(n1, n2):\n",
        "    if n2 != 0:\n",
        "        return n1 / n2\n",
        "\n",
        "def modulos(n1,n2):\n",
        "    return n1%n2\n",
        "\n",
        "#this function calculate the product\n",
        "def calculator():\n",
        "    operations = {\n",
        "        '+': add,\n",
        "        '-': subtract,\n",
        "        '*': multiply,\n",
        "        '/': divide,\n",
        "        '%':modulos\n",
        "    }\n",
        "    #for taking input from the user\n",
        "    while True:\n",
        "        num1 = float(input(\"Enter first number: \"))\n",
        "        op = input(\"Enter operator (+,-,*,/,%): \")\n",
        "        num2 = float(input(\"Enter second number: \"))\n",
        "\n",
        "        if op in operations:\n",
        "            result = operations[op](num1, num2)\n",
        "            print(f\"{num1} {op} {num2} = {result}\")\n",
        "        elif op == 'ma0007':\n",
        "            print(\"Exiting calculator...\")\n",
        "            break\n",
        "        else:\n",
        "            print(\"Invalid operator\")\n",
        "\n",
        "calculator()"
      ]
    },
    {
      "cell_type": "code",
      "source": [],
      "metadata": {
        "id": "gdE5FW8CL7Ve"
      },
      "execution_count": null,
      "outputs": []
    }
  ]
}