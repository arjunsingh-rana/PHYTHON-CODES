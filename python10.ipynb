{
  "nbformat": 4,
  "nbformat_minor": 0,
  "metadata": {
    "colab": {
      "provenance": [],
      "include_colab_link": true
    },
    "kernelspec": {
      "name": "python3",
      "display_name": "Python 3"
    },
    "language_info": {
      "name": "python"
    }
  },
  "cells": [
    {
      "cell_type": "markdown",
      "metadata": {
        "id": "view-in-github",
        "colab_type": "text"
      },
      "source": [
        "<a href=\"https://colab.research.google.com/github/arjunsingh-rana/PHYTHON-CODES/blob/main/python10.ipynb\" target=\"_parent\"><img src=\"https://colab.research.google.com/assets/colab-badge.svg\" alt=\"Open In Colab\"/></a>"
      ]
    },
    {
      "cell_type": "code",
      "execution_count": 1,
      "metadata": {
        "colab": {
          "base_uri": "https://localhost:8080/"
        },
        "id": "7daOtFoQGdxw",
        "outputId": "68db513c-2980-46fb-ecbe-f57ccf4edb5e"
      },
      "outputs": [
        {
          "output_type": "stream",
          "name": "stdout",
          "text": [
            "arjun singh\n",
            "o----\n",
            " ||||\n",
            "***************\n",
            "*************\n",
            "**********\n",
            "********\n",
            "*******\n",
            "******\n",
            "*****\n",
            "****\n",
            "***\n",
            "**\n",
            "*\n",
            "\n",
            "***\n"
          ]
        }
      ],
      "source": [
        "print(\"arjun singh\")\n",
        "print('o----')\n",
        "print(' ||||')\n",
        "print('*' * 15)\n",
        "print('*' * 13)\n",
        "print('*' * 10)\n",
        "print('*' * 8)\n",
        "print('*' * 7)\n",
        "print('*' * 6)\n",
        "print('*' * 5)\n",
        "print('*' * 4)\n",
        "print('*' * 3)\n",
        "print('*' * 2)\n",
        "print('*' * 1)\n",
        "print('*' * 0)\n",
        "print('*' * 3)"
      ]
    },
    {
      "cell_type": "code",
      "source": [],
      "metadata": {
        "id": "Z1er_GkMH2Bn"
      },
      "execution_count": null,
      "outputs": []
    }
  ]
}