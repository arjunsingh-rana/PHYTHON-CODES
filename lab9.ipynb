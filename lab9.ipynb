{
  "nbformat": 4,
  "nbformat_minor": 0,
  "metadata": {
    "colab": {
      "provenance": [],
      "include_colab_link": true
    },
    "kernelspec": {
      "name": "python3",
      "display_name": "Python 3"
    },
    "language_info": {
      "name": "python"
    }
  },
  "cells": [
    {
      "cell_type": "markdown",
      "metadata": {
        "id": "view-in-github",
        "colab_type": "text"
      },
      "source": [
        "<a href=\"https://colab.research.google.com/github/arjunsingh-rana/PHYTHON-CODES/blob/main/lab9.ipynb\" target=\"_parent\"><img src=\"https://colab.research.google.com/assets/colab-badge.svg\" alt=\"Open In Colab\"/></a>"
      ]
    },
    {
      "cell_type": "code",
      "execution_count": null,
      "metadata": {
        "colab": {
          "base_uri": "https://localhost:8080/"
        },
        "id": "N8KiIeGQ66lZ",
        "outputId": "8a3d8ef0-09cb-426d-cd2f-d3175c9e221d"
      },
      "outputs": [
        {
          "output_type": "stream",
          "name": "stdout",
          "text": [
            "MY NAME IS RAM\n",
            "MY NAME IS MADHAV\n"
          ]
        }
      ],
      "source": [
        "def Abc(text):\n",
        "  return text.upper()\n",
        "def dff(text):\n",
        "  return text.lower()\n",
        "\n",
        "print(Abc(\"my name is Ram\"))\n",
        "name=Abc\n",
        "print(name(\"my name is Arjun\"))"
      ]
    },
    {
      "cell_type": "code",
      "source": [
        "#write a python program that use the class to calculate area and volume of cube\n",
        "class cube:\n",
        "    def __init__(self,side):\n",
        "      self.side=side\n",
        "      print(\"area is:\",(6*self.side*self.side))\n",
        "      print(\"voulme is: \",(self.side*self.side*self.side))\n",
        "\n",
        "c= cube(6)"
      ],
      "metadata": {
        "colab": {
          "base_uri": "https://localhost:8080/"
        },
        "id": "J7FNjILuDgU8",
        "outputId": "f02d10c6-7711-4047-fbf8-03d4f2e0b3b1"
      },
      "execution_count": null,
      "outputs": [
        {
          "output_type": "stream",
          "name": "stdout",
          "text": [
            "area is: 216\n",
            "voulme is:  216\n"
          ]
        }
      ]
    },
    {
      "cell_type": "code",
      "source": [
        "#write a python program  class to find factorial of a number.\n",
        "class factorial:\n",
        "  def __init__(self,num):\n",
        "    self.num=num\n",
        "    for(i=1,i<=num,i++):\n",
        "      fact=fact*1\n",
        "\n"
      ],
      "metadata": {
        "id": "ryvlvGu7FiiP"
      },
      "execution_count": null,
      "outputs": []
    },
    {
      "cell_type": "code",
      "source": [
        "#generate a table of n (where n can be any number) table square cube table(sapid)"
      ],
      "metadata": {
        "id": "1_p1dqsKJ1FU"
      },
      "execution_count": null,
      "outputs": []
    }
  ]
}