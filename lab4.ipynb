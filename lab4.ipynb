{
  "nbformat": 4,
  "nbformat_minor": 0,
  "metadata": {
    "colab": {
      "provenance": [],
      "include_colab_link": true
    },
    "kernelspec": {
      "name": "python3",
      "display_name": "Python 3"
    },
    "language_info": {
      "name": "python"
    }
  },
  "cells": [
    {
      "cell_type": "markdown",
      "metadata": {
        "id": "view-in-github",
        "colab_type": "text"
      },
      "source": [
        "<a href=\"https://colab.research.google.com/github/arjunsingh-rana/PHYTHON-CODES/blob/main/lab4.ipynb\" target=\"_parent\"><img src=\"https://colab.research.google.com/assets/colab-badge.svg\" alt=\"Open In Colab\"/></a>"
      ]
    },
    {
      "cell_type": "code",
      "execution_count": null,
      "metadata": {
        "colab": {
          "base_uri": "https://localhost:8080/"
        },
        "id": "L972_pabgZgu",
        "outputId": "165b081a-e598-4961-b0ea-f884ecf1e68f"
      },
      "outputs": [
        {
          "output_type": "stream",
          "name": "stdout",
          "text": [
            "hello\n",
            "Madhav\n"
          ]
        }
      ],
      "source": [
        "print(\"hello\\nMadhav\")"
      ]
    },
    {
      "cell_type": "code",
      "source": [
        "print(\"hello\\tMadhav\")"
      ],
      "metadata": {
        "colab": {
          "base_uri": "https://localhost:8080/"
        },
        "id": "j95KQiAshzF1",
        "outputId": "7d6f03e4-d1ec-4aef-846d-ec2c9bb37c52"
      },
      "execution_count": null,
      "outputs": [
        {
          "output_type": "stream",
          "name": "stdout",
          "text": [
            "hello\tMadhav\n"
          ]
        }
      ]
    },
    {
      "cell_type": "code",
      "source": [
        "print(\"hello\\aMadhav\")"
      ],
      "metadata": {
        "colab": {
          "base_uri": "https://localhost:8080/"
        },
        "id": "8W6-PVb9h4bd",
        "outputId": "4759c153-e1f6-49df-e488-195d5ab1fade"
      },
      "execution_count": null,
      "outputs": [
        {
          "output_type": "stream",
          "name": "stdout",
          "text": [
            "hello\u0007Madhav\n"
          ]
        }
      ]
    },
    {
      "cell_type": "code",
      "source": [
        "print(\"Madhav\\raggarwal\")"
      ],
      "metadata": {
        "colab": {
          "base_uri": "https://localhost:8080/"
        },
        "id": "2e62skHcj3Gm",
        "outputId": "fa961007-45c8-4350-97c6-76a4ae2b2805"
      },
      "execution_count": null,
      "outputs": [
        {
          "output_type": "stream",
          "name": "stdout",
          "text": [
            "Madhav\raggarwal\n"
          ]
        }
      ]
    },
    {
      "cell_type": "code",
      "source": [
        "print(\"hello\\'world\")"
      ],
      "metadata": {
        "colab": {
          "base_uri": "https://localhost:8080/"
        },
        "id": "nsNTye7Ij698",
        "outputId": "b439af1c-5b18-4ce5-b10d-b9bb9c896dbf"
      },
      "execution_count": null,
      "outputs": [
        {
          "output_type": "stream",
          "name": "stdout",
          "text": [
            "hello'world\n"
          ]
        }
      ]
    },
    {
      "cell_type": "code",
      "source": [
        "b=10\n",
        "a=-(b)\n",
        "print(a+b)"
      ],
      "metadata": {
        "colab": {
          "base_uri": "https://localhost:8080/"
        },
        "id": "sADHium1kRdh",
        "outputId": "11362050-4d67-45f3-cded-4ffae6be241b"
      },
      "execution_count": null,
      "outputs": [
        {
          "output_type": "stream",
          "name": "stdout",
          "text": [
            "0\n"
          ]
        }
      ]
    },
    {
      "cell_type": "code",
      "source": [
        "list=['a' , 'bc', 78 , 1.23]\n",
        "list2= ['d', 78]\n",
        "print(list)\n",
        "print(list[0])      #print first element of the list\n",
        "print(list[1:3])     #prints elements starting from 2nd till 3rd\n",
        "print(list[2:])      #prints elements starting from 3rd element\n",
        "print(list *3)       #repeats the list\n",
        "print(list + list2)   #concatenates two lists\n",
        "print(list[-4])        #start from back side\n",
        "list[2] = 55           #assign value at that position\n",
        "print(list)\n",
        "list.insert(2,68)       # insert value at that position\n",
        "print(list)\n",
        "list.remove(68)\n",
        "print(list)\n",
        "list.append('Madhavaggarwal')\n",
        "print(list)\n",
        "print('Madhavaggarwal' in list)\n",
        "print(len(list))\n",
        "list.clear()\n",
        "print(list)\n"
      ],
      "metadata": {
        "colab": {
          "base_uri": "https://localhost:8080/"
        },
        "id": "KdNjPU5llPTC",
        "outputId": "3ba53f4e-0169-400d-cf43-6dbd8aef67ae"
      },
      "execution_count": null,
      "outputs": [
        {
          "output_type": "stream",
          "name": "stdout",
          "text": [
            "['a', 'bc', 78, 1.23]\n",
            "a\n",
            "['bc', 78]\n",
            "[78, 1.23]\n",
            "['a', 'bc', 78, 1.23, 'a', 'bc', 78, 1.23, 'a', 'bc', 78, 1.23]\n",
            "['a', 'bc', 78, 1.23, 'd', 78]\n",
            "a\n",
            "['a', 'bc', 55, 1.23]\n",
            "['a', 'bc', 68, 55, 1.23]\n",
            "['a', 'bc', 55, 1.23]\n",
            "['a', 'bc', 55, 1.23, 'Madhavaggarwal']\n",
            "True\n",
            "5\n",
            "[]\n"
          ]
        }
      ]
    },
    {
      "cell_type": "code",
      "source": [
        "a=(1,2,3)\n",
        "print(type(a))"
      ],
      "metadata": {
        "colab": {
          "base_uri": "https://localhost:8080/"
        },
        "id": "GFbvpbCHoaqy",
        "outputId": "7924d80e-ce06-406f-a1dc-ecd5b36edeec"
      },
      "execution_count": null,
      "outputs": [
        {
          "output_type": "stream",
          "name": "stdout",
          "text": [
            "<class 'tuple'>\n"
          ]
        }
      ]
    },
    {
      "cell_type": "code",
      "source": [
        "print('''my name is Madhav\n",
        "i live in Ambala\n",
        "jai shree ram\n",
        "i study in UPES''')"
      ],
      "metadata": {
        "colab": {
          "base_uri": "https://localhost:8080/"
        },
        "id": "u-bP4_hgtc8c",
        "outputId": "0eab8667-aa5d-4987-ba13-9d3f8c16e551"
      },
      "execution_count": null,
      "outputs": [
        {
          "output_type": "stream",
          "name": "stdout",
          "text": [
            "my name is Madhav\n",
            "i live in Ambala\n",
            "jai shree ram\n",
            "i study in UPES\n"
          ]
        }
      ]
    },
    {
      "cell_type": "code",
      "source": [
        "print('''Plant more trees and take care of the existing ones\n",
        "Reduce the usage of vehicles\n",
        "Reuse and recycle items\n",
        "Proper disposal of waste\n",
        "Say no to polythene\n",
        "Maintain a proper sanitation and cleanliness in our surroundings\n",
        "Consume food in biodegradable containers''')"
      ],
      "metadata": {
        "colab": {
          "base_uri": "https://localhost:8080/"
        },
        "id": "NlcaG9Hzubkc",
        "outputId": "a5acb0b5-c7da-4182-ba58-6879ccb032b5"
      },
      "execution_count": null,
      "outputs": [
        {
          "output_type": "stream",
          "name": "stdout",
          "text": [
            "Plant more trees and take care of the existing ones\n",
            "Reduce the usage of vehicles\n",
            "Reuse and recycle items\n",
            "Proper disposal of waste\n",
            "Say no to polythene\n",
            "Maintain a proper sanitation and cleanliness in our surroundings\n",
            "Consume food in biodegradable containers\n"
          ]
        }
      ]
    }
  ]
}