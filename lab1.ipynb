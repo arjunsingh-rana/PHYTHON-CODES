{
  "nbformat": 4,
  "nbformat_minor": 0,
  "metadata": {
    "colab": {
      "provenance": [],
      "include_colab_link": true
    },
    "kernelspec": {
      "name": "python3",
      "display_name": "Python 3"
    },
    "language_info": {
      "name": "python"
    }
  },
  "cells": [
    {
      "cell_type": "markdown",
      "metadata": {
        "id": "view-in-github",
        "colab_type": "text"
      },
      "source": [
        "<a href=\"https://colab.research.google.com/github/arjunsingh-rana/PHYTHON-CODES/blob/main/lab1.ipynb\" target=\"_parent\"><img src=\"https://colab.research.google.com/assets/colab-badge.svg\" alt=\"Open In Colab\"/></a>"
      ]
    },
    {
      "cell_type": "code",
      "execution_count": 2,
      "metadata": {
        "colab": {
          "base_uri": "https://localhost:8080/"
        },
        "id": "8b_CfX9g3qHd",
        "outputId": "21a88ffd-f835-4ad8-e07f-dfbfff123b23"
      },
      "outputs": [
        {
          "output_type": "stream",
          "name": "stdout",
          "text": [
            "what is my age? 18\n",
            "2006\n"
          ]
        }
      ],
      "source": [
        "birth_year = int(input(\"what is my age? \"))\n",
        "age= 2024 - birth_year\n",
        "print(age)\n"
      ]
    },
    {
      "cell_type": "code",
      "source": [
        "a=12\n",
        "b=20.3\n",
        "c=a+b\n",
        "print(c)\n",
        "print(type(c))"
      ],
      "metadata": {
        "colab": {
          "base_uri": "https://localhost:8080/"
        },
        "id": "fZqN2QP64EAW",
        "outputId": "3fee8a8f-d040-4741-b3ba-7aaee7f16128"
      },
      "execution_count": 3,
      "outputs": [
        {
          "output_type": "stream",
          "name": "stdout",
          "text": [
            "32.3\n",
            "<class 'float'>\n"
          ]
        }
      ]
    },
    {
      "cell_type": "code",
      "source": [
        "name=input('what is your name?')\n",
        "SAP_ID=int(input('enter your SAP'))\n",
        "course=input('what is your course?')\n",
        "year= int(input('write your current year'))\n",
        "city= input('name the city u live')\n",
        "print(name)\n",
        "print(SAP_ID)\n",
        "print(course)\n",
        "print(year)\n",
        "print(city)\n"
      ],
      "metadata": {
        "colab": {
          "base_uri": "https://localhost:8080/"
        },
        "id": "-Nv6zJbL4Lnj",
        "outputId": "52dd5be0-efb8-48ef-93e3-f3b67d870ec7"
      },
      "execution_count": 4,
      "outputs": [
        {
          "output_type": "stream",
          "name": "stdout",
          "text": [
            "what is your name?arjun singh\n",
            "enter your SAP500120502\n",
            "what is your course?btech cse\n",
            "write your current year2024\n",
            "name the city u livedehradun\n",
            "arjun singh\n",
            "500120502\n",
            "btech cse\n",
            "2024\n",
            "dehradun\n"
          ]
        }
      ]
    }
  ]
}