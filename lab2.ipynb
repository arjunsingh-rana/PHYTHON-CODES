{
  "nbformat": 4,
  "nbformat_minor": 0,
  "metadata": {
    "colab": {
      "provenance": [],
      "include_colab_link": true
    },
    "kernelspec": {
      "name": "python3",
      "display_name": "Python 3"
    },
    "language_info": {
      "name": "python"
    }
  },
  "cells": [
    {
      "cell_type": "markdown",
      "metadata": {
        "id": "view-in-github",
        "colab_type": "text"
      },
      "source": [
        "<a href=\"https://colab.research.google.com/github/arjunsingh-rana/PHYTHON-CODES/blob/main/lab2.ipynb\" target=\"_parent\"><img src=\"https://colab.research.google.com/assets/colab-badge.svg\" alt=\"Open In Colab\"/></a>"
      ]
    },
    {
      "cell_type": "code",
      "execution_count": null,
      "metadata": {
        "colab": {
          "base_uri": "https://localhost:8080/"
        },
        "id": "GS_V8ASB6O0C",
        "outputId": "af9176c6-fdbb-449b-d71c-17fad295de3c"
      },
      "outputs": [
        {
          "output_type": "stream",
          "name": "stdout",
          "text": [
            "it is moderate today\n"
          ]
        }
      ],
      "source": [
        "temp = 30\n",
        "if(temp <=40 and temp >=50):\n",
        "  print(\"it is very hot today\")\n",
        "  print(\"take much fluids\")\n",
        "elif(temp <=35 or temp >=20):\n",
        "  print(\"it is moderate today\")\n",
        "elif(not temp == 20):\n",
        "  print(\"temperature cant be predicated\")\n",
        "else:\n",
        " ('whatever the temperature is , i have to be there')\n",
        "\n",
        "\n",
        "\n",
        "\n",
        "\n",
        "\n",
        "\n"
      ]
    },
    {
      "cell_type": "code",
      "source": [
        "temp = 30\n",
        "print(temp <=40 and temp >=20)\n",
        "print(temp <=40 or temp >=20)\n",
        "print(not temp <=40)"
      ],
      "metadata": {
        "colab": {
          "base_uri": "https://localhost:8080/"
        },
        "id": "MMr80slr80E5",
        "outputId": "41edc5f9-ad72-4f98-8e9e-9981beee7c4b"
      },
      "execution_count": null,
      "outputs": [
        {
          "output_type": "stream",
          "name": "stdout",
          "text": [
            "True\n",
            "True\n",
            "False\n"
          ]
        }
      ]
    },
    {
      "cell_type": "code",
      "source": [
        "weight = float(input(\"enter the weight\"))\n",
        "unit = input(\"enter the unit\")\n",
        "if unit.upper() == \"K\":\n",
        "  weight = weight * 0.45\n",
        "  print(weight)\n",
        "else:\n",
        "  weight = weight/0.45\n",
        "  print(weight)\n"
      ],
      "metadata": {
        "colab": {
          "base_uri": "https://localhost:8080/"
        },
        "id": "Sg4jysFn-h2s",
        "outputId": "c51e7d81-17b9-4981-c1fe-09343fae098c"
      },
      "execution_count": null,
      "outputs": [
        {
          "output_type": "stream",
          "name": "stdout",
          "text": [
            "enter the weight40\n",
            "enter the unitk\n",
            "18.0\n"
          ]
        }
      ]
    },
    {
      "cell_type": "code",
      "source": [
        "weight = float(input(\"enter the weight\"))\n",
        "unit = input(\"enter the unit\")\n",
        "if unit.upper() == \"K\":\n",
        "  weight = weight * 0.45\n",
        "  print(weight)\n",
        "else:\n",
        "  weight = weight //0.45\n",
        "  print(weight)\n"
      ],
      "metadata": {
        "colab": {
          "base_uri": "https://localhost:8080/"
        },
        "id": "4eawxnfIArNg",
        "outputId": "f2f14aa1-2a30-4276-bf76-c1ee6db0c765"
      },
      "execution_count": null,
      "outputs": [
        {
          "output_type": "stream",
          "name": "stdout",
          "text": [
            "enter the weight50\n",
            "enter the unitl\n",
            "111.0\n"
          ]
        }
      ]
    }
  ]
}