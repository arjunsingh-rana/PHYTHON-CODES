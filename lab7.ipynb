{
  "nbformat": 4,
  "nbformat_minor": 0,
  "metadata": {
    "colab": {
      "provenance": [],
      "include_colab_link": true
    },
    "kernelspec": {
      "name": "python3",
      "display_name": "Python 3"
    },
    "language_info": {
      "name": "python"
    }
  },
  "cells": [
    {
      "cell_type": "markdown",
      "metadata": {
        "id": "view-in-github",
        "colab_type": "text"
      },
      "source": [
        "<a href=\"https://colab.research.google.com/github/arjunsingh-rana/PHYTHON-CODES/blob/main/lab7.ipynb\" target=\"_parent\"><img src=\"https://colab.research.google.com/assets/colab-badge.svg\" alt=\"Open In Colab\"/></a>"
      ]
    },
    {
      "cell_type": "code",
      "source": [
        "def square(n):\n",
        "  return n**2\n",
        "\n",
        "def sum(a,b):\n",
        "  square(a)\n",
        "  return a+b\n",
        "\n",
        "result=square\n",
        "print(result(5))\n",
        "summation=sum(5,7)\n",
        "print(summation)"
      ],
      "metadata": {
        "colab": {
          "base_uri": "https://localhost:8080/"
        },
        "id": "BSK1dyltsj7d",
        "outputId": "b4220477-e302-4096-83ec-d058318896bc"
      },
      "execution_count": null,
      "outputs": [
        {
          "output_type": "stream",
          "name": "stdout",
          "text": [
            "25\n",
            "12\n"
          ]
        }
      ]
    },
    {
      "cell_type": "code",
      "source": [
        "num_1=100           #global\n",
        "def summ():\n",
        "  num_1=50       #local\n",
        "  print(num_1)    #50\n",
        "def summm():\n",
        "  print(num_1)\n",
        "\n",
        "summ()\n",
        "summm()"
      ],
      "metadata": {
        "colab": {
          "base_uri": "https://localhost:8080/"
        },
        "id": "qM4kRxdIvAQ3",
        "outputId": "4ee5a83e-5af0-41e2-9808-c7d158bdae4e"
      },
      "execution_count": null,
      "outputs": [
        {
          "output_type": "stream",
          "name": "stdout",
          "text": [
            "50\n",
            "100\n"
          ]
        }
      ]
    },
    {
      "cell_type": "code",
      "source": [
        "list_1=[1,2,3,4,5,6,7,8]\n",
        "def list_deletion():\n",
        "  del list_1[0]\n",
        "  print(list_1)\n",
        "\n",
        "def list_appendd():\n",
        "  list_1.append(40)\n",
        "  return list_1\n",
        "  #execution starts here\n",
        "\n",
        "\n",
        "list_deletion()\n",
        "#print(list_1)\n",
        "list_appendd()\n",
        "print(list_1)"
      ],
      "metadata": {
        "colab": {
          "base_uri": "https://localhost:8080/"
        },
        "id": "1NAvl_b8wjGT",
        "outputId": "e63b4cf8-3063-4653-ede9-8c3df3492af0"
      },
      "execution_count": null,
      "outputs": [
        {
          "output_type": "stream",
          "name": "stdout",
          "text": [
            "[2, 3, 4, 5, 6, 7, 8]\n",
            "[2, 3, 4, 5, 6, 7, 8, 40]\n"
          ]
        }
      ]
    },
    {
      "cell_type": "code",
      "source": [
        "#WAPP that calculates the frequency of words in a sentence."
      ],
      "metadata": {
        "id": "xWSXXXmszxEQ"
      },
      "execution_count": null,
      "outputs": []
    },
    {
      "cell_type": "code",
      "source": [
        "'''wap using function that calculates the frequency of words in a sentence and then write a function which calculates\n",
        "frequency of every character in every word'''"
      ],
      "metadata": {
        "id": "_t6WZbnM7ZIn"
      },
      "execution_count": null,
      "outputs": []
    }
  ]
}