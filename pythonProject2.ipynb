{
  "nbformat": 4,
  "nbformat_minor": 0,
  "metadata": {
    "colab": {
      "provenance": [],
      "authorship_tag": "ABX9TyPi/0fvx04vXTe33/PVx7qI",
      "include_colab_link": true
    },
    "kernelspec": {
      "name": "python3",
      "display_name": "Python 3"
    },
    "language_info": {
      "name": "python"
    }
  },
  "cells": [
    {
      "cell_type": "markdown",
      "metadata": {
        "id": "view-in-github",
        "colab_type": "text"
      },
      "source": [
        "<a href=\"https://colab.research.google.com/github/arjunsingh-rana/PHYTHON-CODES/blob/main/pythonProject2.ipynb\" target=\"_parent\"><img src=\"https://colab.research.google.com/assets/colab-badge.svg\" alt=\"Open In Colab\"/></a>"
      ]
    },
    {
      "cell_type": "code",
      "source": [
        "!pip install pandas\n",
        "!pip install numpy\n",
        "!pip install seaborn\n",
        "!pip install time"
      ],
      "metadata": {
        "id": "3c3xVIj5KAO4"
      },
      "execution_count": null,
      "outputs": []
    },
    {
      "cell_type": "code",
      "source": [
        "import pandas as pd\n",
        "\n",
        "\n",
        "class Student:\n",
        "      def __init__(self, name, student_id, grade_level, emergency_contact):\n",
        "        self.name = name\n",
        "        self.student_id = student_id\n",
        "        self.grade_level = grade_level\n",
        "        self.emergency_contact = emergency_contact\n",
        "\n",
        "\n",
        "students = []\n",
        "\n",
        "\n",
        "def add_student(name, student_id, grade_level, emergency_contact):\n",
        "    student = Student(name, student_id, grade_level, emergency_contact)\n",
        "    students.append(student)\n",
        "\n",
        "\n",
        "def update_student(student_id, name=None, grade_level=None, emergency_contact=None):\n",
        "    for student in students:\n",
        "        if student.student_id == student_id:\n",
        "            if name:\n",
        "                student.name = name\n",
        "            if grade_level:\n",
        "                student.grade_level = grade_level\n",
        "            if emergency_contact:\n",
        "                student.emergency_contact = emergency_contact\n",
        "            return\n",
        "    print(\"Student not found.\")\n",
        "\n",
        "\n",
        "def delete_student(student_id):\n",
        "    for i, student in enumerate(students):\n",
        "        if student.student_id == student_id:\n",
        "            del students[i]\n",
        "            return\n",
        "    print(\"Student not found.\")\n",
        "\n",
        "\n",
        "def view_students():\n",
        "    for student in students:\n",
        "        print(f\"Name: {student.name}, ID: {student.student_id}, Grade Level: {student.grade_level}, Emergency Contact: {student.emergency_contact}\")\n",
        "\n",
        "\n",
        "def create_student_dataframe():\n",
        "    data = []\n",
        "    for student in students:\n",
        "        data.append({\n",
        "            \"Name\": student.name,\n",
        "            \"Student ID\": student.student_id,\n",
        "            \"Grade Level\": student.grade_level,\n",
        "            \"Emergency Contact\": student.emergency_contact,\n",
        "        })\n",
        "    return pd.DataFrame(data)\n",
        "\n",
        "\n",
        "def analyze_student_data(df):\n",
        "    print(\"Number of Students:\", df.shape[0])\n",
        "    print(\"Average Grade Level (if numerical):\", df[\"Grade Level\"].mean())\n",
        "\n",
        "\n",
        "def main():\n",
        "    while True:\n",
        "        command = input(\"Enter a command (add/update/delete/view/analyze/quit): \")\n",
        "        if command == \"add\":\n",
        "            name = input(\"Enter the student's name: \")\n",
        "            student_id = input(\"Enter the student's ID: \")\n",
        "            grade_level = input(\"Enter the student's grade level: \")\n",
        "            emergency_contact = input(\"Enter the student's emergency contact information: \")\n",
        "            add_student(name, student_id, grade_level, emergency_contact)\n",
        "        elif command == \"update\":\n",
        "            student_id = input(\"Enter the student's ID: \")\n",
        "            name = input(\"Enter the student's new name (leave blank to keep unchanged): \")\n",
        "            grade_level = input(\"Enter the student's new grade level (leave blank to keep unchanged): \")\n",
        "            emergency_contact = input(\"Enter the student's new emergency contact information (leave blank to keep unchanged): \")\n",
        "            update_student(student_id, name, grade_level, emergency_contact)\n",
        "        elif command == \"delete\":\n",
        "            student_id = input(\"Enter the student's ID: \")\n",
        "            delete_student(student_id)\n",
        "        elif command == \"view\":\n",
        "            view_students()\n",
        "        elif command == \"analyze\":\n",
        "            df = create_student_dataframe()\n",
        "            analyze_student_data(df)\n",
        "        elif command == \"quit\":\n",
        "            break\n",
        "        else:\n",
        "            print(\"Invalid command.\")\n",
        "\n",
        "\n",
        "if __name__ == \"__main__\":\n",
        "    main()\n"
      ],
      "metadata": {
        "id": "oQzPL3_1nC08"
      },
      "execution_count": null,
      "outputs": []
    }
  ]
}