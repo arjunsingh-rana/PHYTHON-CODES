{
  "nbformat": 4,
  "nbformat_minor": 0,
  "metadata": {
    "colab": {
      "provenance": [],
      "include_colab_link": true
    },
    "kernelspec": {
      "name": "python3",
      "display_name": "Python 3"
    },
    "language_info": {
      "name": "python"
    }
  },
  "cells": [
    {
      "cell_type": "markdown",
      "metadata": {
        "id": "view-in-github",
        "colab_type": "text"
      },
      "source": [
        "<a href=\"https://colab.research.google.com/github/arjunsingh-rana/PHYTHON-CODES/blob/main/lab5.ipynb\" target=\"_parent\"><img src=\"https://colab.research.google.com/assets/colab-badge.svg\" alt=\"Open In Colab\"/></a>"
      ]
    },
    {
      "cell_type": "code",
      "execution_count": null,
      "metadata": {
        "colab": {
          "base_uri": "https://localhost:8080/"
        },
        "id": "p4gjCiWZo267",
        "outputId": "711c2696-3f79-4672-f68e-b8275bde7b82"
      },
      "outputs": [
        {
          "output_type": "execute_result",
          "data": {
            "text/plain": [
              "[0, 1, 2, 3, 4, 5, 6, 7, 8, 9, 10, 11, 12, 13, 14, 15, 16, 17, 18, 19]"
            ]
          },
          "metadata": {},
          "execution_count": 3
        }
      ],
      "source": [
        "str_1=\"welcome to python\"\n",
        "list_1= [i for i in str_1]\n",
        "list_1\n",
        "list_2 =[i for i in range(20)]\n",
        "list_2"
      ]
    },
    {
      "cell_type": "code",
      "source": [
        "list_3 = [i for i in range(20) if i%2 ==0]\n",
        "list_3\n"
      ],
      "metadata": {
        "colab": {
          "base_uri": "https://localhost:8080/"
        },
        "id": "0_f3iC_Jp4LD",
        "outputId": "0a49603a-105c-45f9-8997-a5203c6a4d4d"
      },
      "execution_count": null,
      "outputs": [
        {
          "output_type": "execute_result",
          "data": {
            "text/plain": [
              "[0, 2, 4, 6, 8, 10, 12, 14, 16, 18]"
            ]
          },
          "metadata": {},
          "execution_count": 4
        }
      ]
    },
    {
      "cell_type": "code",
      "source": [
        "list_1 =[i for i in range(101) if i%2!=0]\n",
        "list_1\n",
        "\n"
      ],
      "metadata": {
        "colab": {
          "base_uri": "https://localhost:8080/"
        },
        "id": "B_N3QxgZq5XY",
        "outputId": "d2577f75-fbed-465f-ae7e-91f5c9fd2552"
      },
      "execution_count": null,
      "outputs": [
        {
          "output_type": "execute_result",
          "data": {
            "text/plain": [
              "[1,\n",
              " 3,\n",
              " 5,\n",
              " 7,\n",
              " 9,\n",
              " 11,\n",
              " 13,\n",
              " 15,\n",
              " 17,\n",
              " 19,\n",
              " 21,\n",
              " 23,\n",
              " 25,\n",
              " 27,\n",
              " 29,\n",
              " 31,\n",
              " 33,\n",
              " 35,\n",
              " 37,\n",
              " 39,\n",
              " 41,\n",
              " 43,\n",
              " 45,\n",
              " 47,\n",
              " 49,\n",
              " 51,\n",
              " 53,\n",
              " 55,\n",
              " 57,\n",
              " 59,\n",
              " 61,\n",
              " 63,\n",
              " 65,\n",
              " 67,\n",
              " 69,\n",
              " 71,\n",
              " 73,\n",
              " 75,\n",
              " 77,\n",
              " 79,\n",
              " 81,\n",
              " 83,\n",
              " 85,\n",
              " 87,\n",
              " 89,\n",
              " 91,\n",
              " 93,\n",
              " 95,\n",
              " 97,\n",
              " 99]"
            ]
          },
          "metadata": {},
          "execution_count": 19
        }
      ]
    },
    {
      "cell_type": "markdown",
      "source": [
        "immutability of the strings"
      ],
      "metadata": {
        "id": "Ql8fgD5YykMc"
      }
    },
    {
      "cell_type": "code",
      "source": [
        "str_1 =\"hello\"\n",
        "str_2 = \"world\"\n",
        "str_1 = str_1 + str_2\n",
        "print(str_1)"
      ],
      "metadata": {
        "colab": {
          "base_uri": "https://localhost:8080/"
        },
        "id": "TuUexCQKytDF",
        "outputId": "a6885e89-92de-4471-c890-4464f9351d45"
      },
      "execution_count": null,
      "outputs": [
        {
          "output_type": "stream",
          "name": "stdout",
          "text": [
            "helloworld\n"
          ]
        }
      ]
    },
    {
      "cell_type": "code",
      "source": [
        "str_1 = \"hello\"\n",
        "print(id(str_1))\n",
        "str_2 = \"world\"\n",
        "print(id(str_2))\n",
        "str_1 = str_1+ str_2\n",
        "print(str_1)\n",
        "print(id(str_1))"
      ],
      "metadata": {
        "colab": {
          "base_uri": "https://localhost:8080/"
        },
        "id": "KjULF24Zzao0",
        "outputId": "b55263d9-c26c-43ea-a25c-fa3c4a079922"
      },
      "execution_count": null,
      "outputs": [
        {
          "output_type": "stream",
          "name": "stdout",
          "text": [
            "133283795822960\n",
            "133282950157552\n",
            "helloworld\n",
            "133282951374512\n"
          ]
        }
      ]
    },
    {
      "cell_type": "code",
      "source": [
        "1 a ={1,2,3,4,5,}\n",
        "2 for i in enumerate(a):\n",
        "print(i)\n",
        "\n",
        "\n",
        "\n",
        "'''\n",
        "b={'sapid' : 500123223\n",
        "  \"deptt\"  : \"socs\"\n",
        "   \"university\": UPES\"}'''"
      ],
      "metadata": {
        "colab": {
          "base_uri": "https://localhost:8080/",
          "height": 140
        },
        "id": "sHkoBF9Qz9GI",
        "outputId": "4d23a696-247d-4977-8a26-6c3525ff3ae0"
      },
      "execution_count": null,
      "outputs": [
        {
          "output_type": "error",
          "ename": "SyntaxError",
          "evalue": "invalid syntax (<ipython-input-42-535088109ebe>, line 1)",
          "traceback": [
            "\u001b[0;36m  File \u001b[0;32m\"<ipython-input-42-535088109ebe>\"\u001b[0;36m, line \u001b[0;32m1\u001b[0m\n\u001b[0;31m    1 a ={1,2,3,4,5,}\u001b[0m\n\u001b[0m      ^\u001b[0m\n\u001b[0;31mSyntaxError\u001b[0m\u001b[0;31m:\u001b[0m invalid syntax\n"
          ]
        }
      ]
    },
    {
      "cell_type": "code",
      "source": [
        "a= [1,2,3,4,5,'Madhav']\n",
        "\n",
        "print(list(a[2:5]))"
      ],
      "metadata": {
        "colab": {
          "base_uri": "https://localhost:8080/"
        },
        "id": "p3E34O341902",
        "outputId": "1fcc5507-a7aa-45d9-d62a-486b7dc1df9b"
      },
      "execution_count": null,
      "outputs": [
        {
          "output_type": "stream",
          "name": "stdout",
          "text": [
            "[3, 4, 5]\n"
          ]
        }
      ]
    },
    {
      "cell_type": "code",
      "source": [
        "a=(1,2,3,4,5)\n",
        "\n",
        "print(a[:])"
      ],
      "metadata": {
        "colab": {
          "base_uri": "https://localhost:8080/"
        },
        "id": "fgiNKmVY5Kh5",
        "outputId": "d393d2c1-d788-47c9-fe44-91d61cd213e0"
      },
      "execution_count": null,
      "outputs": [
        {
          "output_type": "stream",
          "name": "stdout",
          "text": [
            "(1, 2, 3, 4, 5)\n"
          ]
        }
      ]
    },
    {
      "cell_type": "code",
      "source": [
        "str_num = \"1 one 2 two 3 three 4 four 5 five 6 six 7 seven\"\n",
        "list_num = [i for i in str_num if i.isdigit()]\n",
        "list_num"
      ],
      "metadata": {
        "id": "pwkZAaiQ8g9f",
        "outputId": "a67a3f22-2010-45ee-ffec-baf909f9a08e",
        "colab": {
          "base_uri": "https://localhost:8080/"
        }
      },
      "execution_count": null,
      "outputs": [
        {
          "output_type": "execute_result",
          "data": {
            "text/plain": [
              "['1', '2', '3', '4', '5', '6', '7']"
            ]
          },
          "metadata": {},
          "execution_count": 50
        }
      ]
    },
    {
      "cell_type": "code",
      "source": [
        "#write a program to find the largest element in the list\n",
        "list_1= {4,938,2344,23,442}\n",
        "largest_element = max(list_1)\n",
        "print(\"the largest element in the list is\",largest_element )"
      ],
      "metadata": {
        "id": "Xw-ssjUM81eZ",
        "outputId": "b9976400-d58b-4df1-a911-4477bab4b163",
        "colab": {
          "base_uri": "https://localhost:8080/"
        }
      },
      "execution_count": null,
      "outputs": [
        {
          "output_type": "stream",
          "name": "stdout",
          "text": [
            "the largest element in the list is 2344\n"
          ]
        }
      ]
    },
    {
      "cell_type": "code",
      "source": [],
      "metadata": {
        "id": "0GwCbuxD9gRZ"
      },
      "execution_count": null,
      "outputs": []
    }
  ]
}