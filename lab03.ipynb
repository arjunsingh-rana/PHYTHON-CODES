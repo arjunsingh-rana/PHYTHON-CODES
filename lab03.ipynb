{
  "nbformat": 4,
  "nbformat_minor": 0,
  "metadata": {
    "colab": {
      "provenance": [],
      "include_colab_link": true
    },
    "kernelspec": {
      "name": "python3",
      "display_name": "Python 3"
    },
    "language_info": {
      "name": "python"
    }
  },
  "cells": [
    {
      "cell_type": "markdown",
      "metadata": {
        "id": "view-in-github",
        "colab_type": "text"
      },
      "source": [
        "<a href=\"https://colab.research.google.com/github/arjunsingh-rana/PHYTHON-CODES/blob/main/lab03.ipynb\" target=\"_parent\"><img src=\"https://colab.research.google.com/assets/colab-badge.svg\" alt=\"Open In Colab\"/></a>"
      ]
    },
    {
      "cell_type": "code",
      "execution_count": null,
      "metadata": {
        "colab": {
          "base_uri": "https://localhost:8080/"
        },
        "id": "pAsDa1dP5H6d",
        "outputId": "24746574-066f-47d4-81e5-ee060553c8cd"
      },
      "outputs": [
        {
          "output_type": "stream",
          "name": "stdout",
          "text": [
            "0\n",
            "1\n",
            "2\n",
            "3\n",
            "4\n",
            "5\n",
            "6\n",
            "7\n",
            "8\n",
            "9\n",
            "10\n"
          ]
        }
      ],
      "source": [
        "i=0\n",
        "while i<=10:\n",
        "  print(i)\n",
        "  i+=1"
      ]
    },
    {
      "cell_type": "code",
      "source": [
        "i=0\n",
        "while i<= 10:\n",
        "  print(i * '*')\n",
        "  i+=1                                    #i = i+1"
      ],
      "metadata": {
        "colab": {
          "base_uri": "https://localhost:8080/"
        },
        "id": "sVg3Aohj59Tw",
        "outputId": "1c17feba-56d5-4358-fde9-7e63d3cda980"
      },
      "execution_count": null,
      "outputs": [
        {
          "output_type": "stream",
          "name": "stdout",
          "text": [
            "\n",
            "*\n",
            "**\n",
            "***\n",
            "****\n",
            "*****\n",
            "******\n",
            "*******\n",
            "********\n",
            "*********\n",
            "**********\n"
          ]
        }
      ]
    },
    {
      "cell_type": "code",
      "source": [
        "for i in range(2,20, 4):\n",
        "  print(i)"
      ],
      "metadata": {
        "colab": {
          "base_uri": "https://localhost:8080/"
        },
        "id": "IVvnUyjM6Mnl",
        "outputId": "591b690a-9cc2-4d4d-e6b0-a0455a090e90"
      },
      "execution_count": null,
      "outputs": [
        {
          "output_type": "stream",
          "name": "stdout",
          "text": [
            "2\n",
            "6\n",
            "10\n",
            "14\n",
            "18\n"
          ]
        }
      ]
    },
    {
      "cell_type": "code",
      "source": [
        "for i in 'Madhav':\n",
        "  print(i)"
      ],
      "metadata": {
        "colab": {
          "base_uri": "https://localhost:8080/"
        },
        "id": "BtEmCluf6kDn",
        "outputId": "cc2b64f1-48b8-4be9-a56e-2ccc6f13eef6"
      },
      "execution_count": null,
      "outputs": [
        {
          "output_type": "stream",
          "name": "stdout",
          "text": [
            "M\n",
            "a\n",
            "d\n",
            "h\n",
            "a\n",
            "v\n"
          ]
        }
      ]
    },
    {
      "cell_type": "code",
      "source": [
        "for i in 'Madhav':\n",
        "  print('i want to study')\n",
        "  print('i am studying python')\n",
        "  print(i)"
      ],
      "metadata": {
        "colab": {
          "base_uri": "https://localhost:8080/"
        },
        "id": "TB9x-4fY6wAE",
        "outputId": "c22367b5-9f3b-4933-d3de-1e311be1ece9"
      },
      "execution_count": null,
      "outputs": [
        {
          "output_type": "stream",
          "name": "stdout",
          "text": [
            "i want to study\n",
            "i am studying python\n",
            "M\n",
            "i want to study\n",
            "i am studying python\n",
            "a\n",
            "i want to study\n",
            "i am studying python\n",
            "d\n",
            "i want to study\n",
            "i am studying python\n",
            "h\n",
            "i want to study\n",
            "i am studying python\n",
            "a\n",
            "i want to study\n",
            "i am studying python\n",
            "v\n"
          ]
        }
      ]
    },
    {
      "cell_type": "code",
      "source": [
        "for i in ['Madhav', 'mudit', 'Shree' ]:\n",
        "  print(i)"
      ],
      "metadata": {
        "colab": {
          "base_uri": "https://localhost:8080/"
        },
        "id": "CgOsoURa8Qfp",
        "outputId": "a1038e9e-152c-4f8d-b96f-b8a1593c7ace"
      },
      "execution_count": null,
      "outputs": [
        {
          "output_type": "stream",
          "name": "stdout",
          "text": [
            "Madhav\n",
            "mudit\n",
            "Shree\n"
          ]
        }
      ]
    },
    {
      "cell_type": "code",
      "source": [
        "a = [1,2]\n",
        "b = [3,4]\n",
        "for i in a:             #1--> #2\n",
        "  for j in b:            #3--> #4\n",
        "    print(\"inside the inner loop\")\n",
        "    print(i, j)\n",
        "  print(\"outside the inner loop\")\n"
      ],
      "metadata": {
        "colab": {
          "base_uri": "https://localhost:8080/"
        },
        "id": "MtdDeQH-84ph",
        "outputId": "87412a77-dbd7-47c3-e9b3-a7b048bf1205"
      },
      "execution_count": null,
      "outputs": [
        {
          "output_type": "stream",
          "name": "stdout",
          "text": [
            "inside the inner loop\n",
            "1 3\n",
            "inside the inner loop\n",
            "1 4\n",
            "outside the inner loop\n",
            "inside the inner loop\n",
            "2 3\n",
            "inside the inner loop\n",
            "2 4\n",
            "outside the inner loop\n"
          ]
        }
      ]
    },
    {
      "cell_type": "code",
      "source": [
        "sec_num = 7\n",
        "guess_count = 0\n",
        "guess= int(input(\"enter the number to guess: \"))\n",
        "while guess_count <= 3:\n",
        "  if guess == sec_num:\n",
        "    print(\"you won\")\n",
        "        break\n",
        "  else:\n",
        "\n",
        "\n"
      ],
      "metadata": {
        "id": "qk9uj_qK-3ip"
      },
      "execution_count": null,
      "outputs": []
    },
    {
      "cell_type": "code",
      "source": [
        "sec_num = 7\n",
        "guess_count = 0\n",
        "while guess_count <= 5:\n",
        "   guess = int(input(\"enter the no. to guess:\"))\n",
        "   if guess!= sec_num:\n",
        "    print(\"try again\")\n",
        "    guess_count+=1\n",
        "   else:\n",
        "    guess == sec_num\n",
        "    print(\"you won\")\n",
        "    break\n"
      ],
      "metadata": {
        "colab": {
          "base_uri": "https://localhost:8080/"
        },
        "id": "SJrSiOKjA6YI",
        "outputId": "4964fdd7-a02f-4ebf-cf93-2f36b6fe4c23"
      },
      "execution_count": null,
      "outputs": [
        {
          "output_type": "stream",
          "name": "stdout",
          "text": [
            "enter the no. to guess:2\n",
            "try again\n",
            "enter the no. to guess:4\n",
            "try again\n",
            "enter the no. to guess:7\n",
            "you won\n"
          ]
        }
      ]
    },
    {
      "cell_type": "code",
      "source": [
        "#write a program to calculate the factorial of a number\n",
        "'''\n",
        "when num ==0\n",
        "when num is a negative number\n",
        "when num is greater than 0\n",
        "use for loop to calculate\n",
        "'''\n",
        "num = int(input('enter a number: '))\n",
        "factorial = 1\n",
        "if num < 0:\n",
        "  print(\"factorial doesn't exist for negative numbers\")\n",
        "elif num == 0:\n",
        "  print(\"factorial of 0 is 1\")\n",
        "else:\n",
        "  for i in range(1, num+1):\n",
        "    factorial = factorial * i\n",
        "  print(\"the factorial of the given {num} is \" + str(factorial))\n",
        "\n"
      ],
      "metadata": {
        "colab": {
          "base_uri": "https://localhost:8080/"
        },
        "id": "MN1kfS7HFR_a",
        "outputId": "48ddf36d-4692-4039-9da9-568304c83fd1"
      },
      "execution_count": null,
      "outputs": [
        {
          "output_type": "stream",
          "name": "stdout",
          "text": [
            "enter a number: 5\n",
            "the factorial of the given {num} is 120\n"
          ]
        }
      ]
    },
    {
      "cell_type": "code",
      "source": [
        "#write a program\n",
        "i=0\n",
        "a='welcomepython'   #len(a)=13\n",
        "\n",
        "while i< len(a):\n",
        "  if a[i] == 'p':\n",
        "    i+= 1\n",
        "    break\n",
        "  print('current letter:', a[i])\n",
        "  i +=1"
      ],
      "metadata": {
        "colab": {
          "base_uri": "https://localhost:8080/"
        },
        "id": "I1CeuYhZHfPE",
        "outputId": "e070aca8-b1f3-450f-a618-47a070d96bd8"
      },
      "execution_count": null,
      "outputs": [
        {
          "output_type": "stream",
          "name": "stdout",
          "text": [
            "current letter: w\n",
            "current letter: e\n",
            "current letter: l\n",
            "current letter: c\n",
            "current letter: o\n",
            "current letter: m\n",
            "current letter: e\n"
          ]
        }
      ]
    },
    {
      "cell_type": "code",
      "source": [
        "i=0\n",
        "a='welcomepython'   #len(a)=13\n",
        "\n",
        "while i< len(a):\n",
        "  if a[i] == 'e':\n",
        "    i+= 1\n",
        "    continue\n",
        "  print('current letter:', a[i])\n",
        "  i +=1\n",
        "print(\"outside\")"
      ],
      "metadata": {
        "colab": {
          "base_uri": "https://localhost:8080/"
        },
        "id": "zBXdQqKCJoA-",
        "outputId": "b6b4191e-dc57-4b04-aae3-5550bb93d199"
      },
      "execution_count": null,
      "outputs": [
        {
          "output_type": "stream",
          "name": "stdout",
          "text": [
            "current letter: w\n",
            "current letter: l\n",
            "current letter: c\n",
            "current letter: o\n",
            "current letter: m\n",
            "current letter: p\n",
            "current letter: y\n",
            "current letter: t\n",
            "current letter: h\n",
            "current letter: o\n",
            "current letter: n\n",
            "outside\n"
          ]
        }
      ]
    },
    {
      "cell_type": "code",
      "source": [
        "a='welcomepython'\n",
        "i = 0\n",
        "\n",
        "while i < len(a):  #i<13\n",
        "  i+=1\n",
        "  pass\n",
        "  print(i)\n",
        "\n",
        "print('value of i :' , i)\n",
        "\n"
      ],
      "metadata": {
        "colab": {
          "base_uri": "https://localhost:8080/"
        },
        "id": "A5Q3GBsPKKmQ",
        "outputId": "de85195e-e89f-4b05-8ac3-e03a6e2555aa"
      },
      "execution_count": null,
      "outputs": [
        {
          "output_type": "stream",
          "name": "stdout",
          "text": [
            "1\n",
            "2\n",
            "3\n",
            "4\n",
            "5\n",
            "6\n",
            "7\n",
            "8\n",
            "9\n",
            "10\n",
            "11\n",
            "12\n",
            "13\n",
            "value of i : 13\n"
          ]
        }
      ]
    }
  ]
}